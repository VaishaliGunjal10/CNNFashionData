{
  "nbformat": 4,
  "nbformat_minor": 0,
  "metadata": {
    "colab": {
      "name": "CNNfashion.ipynb",
      "provenance": []
    },
    "kernelspec": {
      "name": "python3",
      "display_name": "Python 3"
    }
  },
  "cells": [
    {
      "cell_type": "code",
      "metadata": {
        "id": "JFz2Q8Rl9UGn"
      },
      "source": [
        "import tensorflow as tf\r\n",
        "from tensorflow import keras as ks"
      ],
      "execution_count": 1,
      "outputs": []
    },
    {
      "cell_type": "code",
      "metadata": {
        "id": "E-6pF38f9coo"
      },
      "source": [
        "(train_img,train_lb),(test_img,test_lb)=tf.keras.datasets.fashion_mnist.load_data()\r\n",
        "xtrain=train_img.reshape(train_img.shape[0],28,28,1)\r\n",
        "xtest =test_img.reshape(test_img.shape[0],28,28,1)"
      ],
      "execution_count": 24,
      "outputs": []
    },
    {
      "cell_type": "code",
      "metadata": {
        "id": "Mt2q93qm9csQ"
      },
      "source": [
        "xtrain=xtrain.astype('float32')/255\r\n",
        "xtest=xtest.astype('float32')/255\r\n"
      ],
      "execution_count": 25,
      "outputs": []
    },
    {
      "cell_type": "code",
      "metadata": {
        "id": "ZvD8bLaR9cvT"
      },
      "source": [
        "ytrain=ks.utils.to_categorical(train_lb,10)\r\n",
        "ytest=ks.utils.to_categorical(test_lb,10)"
      ],
      "execution_count": 26,
      "outputs": []
    },
    {
      "cell_type": "code",
      "metadata": {
        "id": "xYGfSuzl9cyd"
      },
      "source": [
        "input_shape=(28,28,1)"
      ],
      "execution_count": 27,
      "outputs": []
    },
    {
      "cell_type": "code",
      "metadata": {
        "colab": {
          "base_uri": "https://localhost:8080/"
        },
        "id": "KVlus-9S-tmD",
        "outputId": "7d25af90-8161-414e-e20c-8c1c72a3abce"
      },
      "source": [
        "model=ks.Sequential()\r\n",
        "model.add(ks.layers.Conv2D(32,kernel_size=(3,3),activation='relu',input_shape=input_shape))\r\n",
        "model.add(ks.layers.Conv2D(64,(3,3),activation='relu'))\r\n",
        "model.add(ks.layers.MaxPool2D(pool_size=(2,2)))\r\n",
        "model.add(ks.layers.Dropout(0.25))\r\n",
        "model.add(ks.layers.Flatten())\r\n",
        "model.add(ks.layers.Dense(128,activation='relu'))\r\n",
        "model.add(ks.layers.Dropout(0.5))\r\n",
        "model.add(ks.layers.Dense(10,activation='softmax'))\r\n",
        "model.summary()"
      ],
      "execution_count": 28,
      "outputs": [
        {
          "output_type": "stream",
          "text": [
            "Model: \"sequential_3\"\n",
            "_________________________________________________________________\n",
            "Layer (type)                 Output Shape              Param #   \n",
            "=================================================================\n",
            "conv2d_6 (Conv2D)            (None, 26, 26, 32)        320       \n",
            "_________________________________________________________________\n",
            "conv2d_7 (Conv2D)            (None, 24, 24, 64)        18496     \n",
            "_________________________________________________________________\n",
            "max_pooling2d_3 (MaxPooling2 (None, 12, 12, 64)        0         \n",
            "_________________________________________________________________\n",
            "dropout_5 (Dropout)          (None, 12, 12, 64)        0         \n",
            "_________________________________________________________________\n",
            "flatten_2 (Flatten)          (None, 9216)              0         \n",
            "_________________________________________________________________\n",
            "dense_4 (Dense)              (None, 128)               1179776   \n",
            "_________________________________________________________________\n",
            "dropout_6 (Dropout)          (None, 128)               0         \n",
            "_________________________________________________________________\n",
            "dense_5 (Dense)              (None, 10)                1290      \n",
            "=================================================================\n",
            "Total params: 1,199,882\n",
            "Trainable params: 1,199,882\n",
            "Non-trainable params: 0\n",
            "_________________________________________________________________\n"
          ],
          "name": "stdout"
        }
      ]
    },
    {
      "cell_type": "code",
      "metadata": {
        "id": "8dVa-oM--to5"
      },
      "source": [
        "model.compile(optimizer='adam',loss=ks.losses.categorical_crossentropy,metrics=['accuracy'])"
      ],
      "execution_count": 29,
      "outputs": []
    },
    {
      "cell_type": "code",
      "metadata": {
        "colab": {
          "base_uri": "https://localhost:8080/"
        },
        "id": "oCNsF0tp-trY",
        "outputId": "601496c3-f1cc-4d68-f426-b435a94ba2ed"
      },
      "source": [
        "model.fit(xtrain,ytrain,batch_size=120,epochs=3,verbose=3,validation_data=(xtest,ytest))"
      ],
      "execution_count": 30,
      "outputs": [
        {
          "output_type": "stream",
          "text": [
            "Epoch 1/3\n",
            "Epoch 2/3\n",
            "Epoch 3/3\n"
          ],
          "name": "stdout"
        },
        {
          "output_type": "execute_result",
          "data": {
            "text/plain": [
              "<tensorflow.python.keras.callbacks.History at 0x7fa318fb0358>"
            ]
          },
          "metadata": {
            "tags": []
          },
          "execution_count": 30
        }
      ]
    },
    {
      "cell_type": "code",
      "metadata": {
        "colab": {
          "base_uri": "https://localhost:8080/"
        },
        "id": "g2hLHu2b-tuA",
        "outputId": "fd737e2e-7a0a-4565-819a-be16f403f8cd"
      },
      "source": [
        "score=model.evaluate(xtest,ytest,verbose=0)\r\n",
        "score"
      ],
      "execution_count": 31,
      "outputs": [
        {
          "output_type": "execute_result",
          "data": {
            "text/plain": [
              "[0.260233998298645, 0.9061999917030334]"
            ]
          },
          "metadata": {
            "tags": []
          },
          "execution_count": 31
        }
      ]
    },
    {
      "cell_type": "code",
      "metadata": {
        "id": "bpApjYoQ-tw9"
      },
      "source": [
        ""
      ],
      "execution_count": null,
      "outputs": []
    }
  ]
}